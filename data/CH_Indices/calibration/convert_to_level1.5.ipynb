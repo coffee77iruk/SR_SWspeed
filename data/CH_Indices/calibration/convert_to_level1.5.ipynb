{
 "cells": [
  {
   "cell_type": "markdown",
   "id": "be4f1cab",
   "metadata": {},
   "source": [
    "### Convert SDO/AIA data from level 1 to level 1.5\n",
    "\n",
    "AIA data products provides by the JSOC are level 1 data products.  \n",
    "This means that the images still include the roll angle of the satellite and each channel may have a slightly different pixel scale.  \n",
    "Typically, before performing any sort of data analysis on AIA images, you will want to promote your AIA data from level 1 to level 1.5.\n",
    "\n",
    "1. Pointing correction (aiapy.calibrate.update_pointing)  \n",
    "2. Image respiking (aiapy.calibrate.respike)  \n",
    "3. PSF deconvolution (aiapy.psf.deconvolve)  \n",
    "4. Registration (aiapy.calibrate.register)  \n",
    "5. Degradation correction (aiapy.calibrate.correct_degradation)  \n",
    "6. Exposure normalization\n",
    "\n",
    "In this code, we only use method 1, 4, 5, and 6.\n",
    "\n",
    "Reference.\n",
    "https://aiapy.readthedocs.io/en/stable/preparing_data.html"
   ]
  },
  {
   "cell_type": "code",
   "execution_count": null,
   "id": "c48a579f",
   "metadata": {},
   "outputs": [],
   "source": [
    "import copy\n",
    "import warnings\n",
    "\n",
    "import numpy as np\n",
    "\n",
    "import astropy.units as u\n",
    "\n",
    "import sunpy\n",
    "from sunpy.map import contains_full_disk\n",
    "\n",
    "import aiapy\n",
    "from aiapy.calibrate.util import get_pointing_table\n",
    "from aiapy.calibrate.util import get_correction_table\n",
    "from aiapy.util.exceptions import AIApyUserWarning\n",
    "\n",
    "__all__ = [\"update_pointing\"]"
   ]
  },
  {
   "cell_type": "code",
   "execution_count": null,
   "id": "1a6e8c13",
   "metadata": {},
   "outputs": [
    {
     "data": {
      "text/plain": [
       "sunpy.map.sources.sdo.AIAMap"
      ]
     },
     "execution_count": 2,
     "metadata": {},
     "output_type": "execute_result"
    }
   ],
   "source": [
    "fits_file = r\"E:\\Research\\SR\\input\\CH_Indices\\EUV_level1\\193\\2012\\aia.lev1_euv_12s.2012-01-01T000009Z.193.image_lev1.fits\"\n",
    "aia_map = sunpy.map.Map(fits_file)\n",
    "type(aia_map)"
   ]
  },
  {
   "cell_type": "markdown",
   "id": "65a0afca",
   "metadata": {},
   "source": [
    "#### 1. Pointing correction\n",
    "\n",
    "aiapy.calibrate.update_pointing(smap, *, pointing_table)\n",
    "\n",
    "pointing_table = ``get_pointing_table``  \n",
    ": This method removes any ``PCi_j`` matrix keys in the header and updates the ``CROTA2`` keyword."
   ]
  },
  {
   "cell_type": "code",
   "execution_count": null,
   "id": "479e074d",
   "metadata": {},
   "outputs": [],
   "source": [
    "pointing_tbl = get_pointing_table(\n",
    "    \"JSOC\",\n",
    "    time_range=(aia_map.date - 6*u.hour, aia_map.date + 6*u.hour)\n",
    ")\n",
    "\n",
    "aia_map_pt = aiapy.calibrate.update_pointing(aia_map, pointing_table=pointing_tbl)"
   ]
  },
  {
   "cell_type": "code",
   "execution_count": null,
   "id": "5ea80ae3",
   "metadata": {},
   "outputs": [
    {
     "name": "stdout",
     "output_type": "stream",
     "text": [
      "CRPIX1 before: 2043.09998 after: 2043.348511\n",
      "CRPIX2 before: 2042.29004 after: 2041.547485\n",
      "CDELT1 before: 0.600758016 after: 0.600714\n",
      "CDELT2 before: 0.600758016 after: 0.600714\n",
      "CROTA2 before: 0.0564525016 after: 0.0578085015073\n"
     ]
    }
   ],
   "source": [
    "# To check a change.\n",
    "for key in [\"CRPIX1\",\"CRPIX2\",\"CDELT1\",\"CDELT2\",\"CROTA2\"]:\n",
    "    print(key, \"before:\", aia_map.meta[key], \"after:\", aia_map_pt.meta[key])\n"
   ]
  },
  {
   "cell_type": "markdown",
   "id": "f649a9c6",
   "metadata": {},
   "source": [
    "#### 2. Registration"
   ]
  },
  {
   "cell_type": "code",
   "execution_count": null,
   "id": "126e6f34",
   "metadata": {},
   "outputs": [],
   "source": [
    "aia_map_reg = aiapy.calibrate.register(\n",
    "    aia_map_pt,\n",
    "    missing=np.nan,     # extrapolation: fill with NaN\n",
    "    order=3,            # interpolation: bicubic        \n",
    "    method='scipy'      # Rotation function to use: scipy\n",
    ")"
   ]
  },
  {
   "cell_type": "code",
   "execution_count": null,
   "id": "39a11aba",
   "metadata": {},
   "outputs": [
    {
     "name": "stdout",
     "output_type": "stream",
     "text": [
      "CRPIX1 before: 2043.348511 after: 2048.5\n",
      "CRPIX2 before: 2041.547485 after: 2048.5\n",
      "CDELT1 before: 0.600714 after: 0.6\n",
      "CDELT2 before: 0.600714 after: 0.6\n"
     ]
    }
   ],
   "source": [
    "# To check a change.\n",
    "for key in [\"CRPIX1\",\"CRPIX2\",\"CDELT1\",\"CDELT2\"]:\n",
    "    print(key, \"before:\", aia_map_pt.meta[key], \"after:\", aia_map_reg.meta[key])"
   ]
  },
  {
   "cell_type": "markdown",
   "id": "b8d19761",
   "metadata": {},
   "source": [
    "#### 3. Degradation correction"
   ]
  },
  {
   "cell_type": "code",
   "execution_count": null,
   "id": "0e3bfb49",
   "metadata": {},
   "outputs": [],
   "source": [
    "corr_tbl = get_correction_table(\"SSW\")\n",
    "\n",
    "aia_map_cal = aiapy.calibrate.correct_degradation(\n",
    "    aia_map_reg,\n",
    "    correction_table=corr_tbl\n",
    ")"
   ]
  },
  {
   "cell_type": "code",
   "execution_count": null,
   "id": "08fc78ac",
   "metadata": {},
   "outputs": [
    {
     "name": "stdout",
     "output_type": "stream",
     "text": [
      "before: 2012-01-01T00:00:07.838  after: 2012-01-01T00:00:07.838\n"
     ]
    }
   ],
   "source": [
    "print(\"before:\", aia_map_reg.date.isot, \" after:\", aia_map_cal.date.isot)"
   ]
  },
  {
   "cell_type": "markdown",
   "id": "1c16d04b",
   "metadata": {},
   "source": [
    "#### 4. Exposure normalization"
   ]
  },
  {
   "cell_type": "code",
   "execution_count": null,
   "id": "5c67905d",
   "metadata": {},
   "outputs": [],
   "source": [
    "exp_time = aia_map_cal.exposure_time\n",
    "\n",
    "aia_map_norm = aia_map_cal / exp_time"
   ]
  },
  {
   "cell_type": "code",
   "execution_count": null,
   "id": "8a7597fa",
   "metadata": {},
   "outputs": [
    {
     "data": {
      "text/plain": [
       "-64"
      ]
     },
     "execution_count": 74,
     "metadata": {},
     "output_type": "execute_result"
    }
   ],
   "source": [
    "aia_map_norm.meta[\"BITPIX\"]"
   ]
  },
  {
   "cell_type": "code",
   "execution_count": null,
   "id": "e56ec5fc",
   "metadata": {},
   "outputs": [],
   "source": []
  },
  {
   "cell_type": "code",
   "execution_count": null,
   "id": "11dfa0de",
   "metadata": {},
   "outputs": [],
   "source": []
  }
 ],
 "metadata": {
  "kernelspec": {
   "display_name": "venv",
   "language": "python",
   "name": "python3"
  },
  "language_info": {
   "codemirror_mode": {
    "name": "ipython",
    "version": 3
   },
   "file_extension": ".py",
   "mimetype": "text/x-python",
   "name": "python",
   "nbconvert_exporter": "python",
   "pygments_lexer": "ipython3",
   "version": "3.11.9"
  }
 },
 "nbformat": 4,
 "nbformat_minor": 5
}
