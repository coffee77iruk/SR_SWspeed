{
 "cells": [
  {
   "cell_type": "markdown",
   "id": "be4f1cab",
   "metadata": {},
   "source": [
    "### Convert SDO/AIA data from level 1 to level 1.5\n",
    "\n",
    "AIA data products provides by the JSOC are level 1 data products.  \n",
    "This means that the images still include the roll angle of the satellite and each channel may have a slightly different pixel scale.  \n",
    "Typically, before performing any sort of data analysis on AIA images, you will want to promote your AIA data from level 1 to level 1.5.\n",
    "\n",
    "1. Pointing correction (aiapy.calibrate.update_pointing)  \n",
    "2. Image respiking (aiapy.calibrate.respike)  \n",
    "3. PSF deconvolution (aiapy.psf.deconvolve)  \n",
    "4. Registration (aiapy.calibrate.register)  \n",
    "5. Degradation correction (aiapy.calibrate.correct_degradation)  \n",
    "6. Exposure normalization\n",
    "\n",
    "In this code, we only use method 1, 4, 5, and 6.\n",
    "\n",
    "Reference.\n",
    "https://aiapy.readthedocs.io/en/stable/preparing_data.html"
   ]
  },
  {
   "cell_type": "code",
   "execution_count": 1,
   "id": "c48a579f",
   "metadata": {},
   "outputs": [],
   "source": [
    "import copy\n",
    "import warnings\n",
    "\n",
    "import numpy as np\n",
    "\n",
    "import astropy.units as u\n",
    "\n",
    "import sunpy\n",
    "from sunpy.map import contains_full_disk\n",
    "\n",
    "import aiapy\n",
    "from aiapy.calibrate.util import get_pointing_table\n",
    "from aiapy.calibrate.util import get_correction_table\n",
    "from aiapy.util.exceptions import AIApyUserWarning\n",
    "\n",
    "__all__ = [\"update_pointing\"]"
   ]
  },
  {
   "cell_type": "code",
   "execution_count": 2,
   "id": "1a6e8c13",
   "metadata": {},
   "outputs": [
    {
     "data": {
      "text/plain": [
       "sunpy.map.sources.sdo.AIAMap"
      ]
     },
     "execution_count": 2,
     "metadata": {},
     "output_type": "execute_result"
    }
   ],
   "source": [
    "fits_file = r\"E:\\Research\\SR\\input\\CH_Indices\\EUV_level1\\193\\2024\\aia.lev1_euv_12s.2024-11-28T120006Z.193.image_lev1.fits\"\n",
    "aia_map = sunpy.map.Map(fits_file)\n",
    "type(aia_map)"
   ]
  },
  {
   "cell_type": "markdown",
   "id": "65a0afca",
   "metadata": {},
   "source": [
    "#### 1. Pointing correction\n",
    "\n",
    "aiapy.calibrate.update_pointing(smap, *, pointing_table)\n",
    "\n",
    "pointing_table = ``get_pointing_table``  \n",
    ": This method removes any ``PCi_j`` matrix keys in the header and updates the ``CROTA2`` keyword."
   ]
  },
  {
   "cell_type": "code",
   "execution_count": 3,
   "id": "a7c3b2aa",
   "metadata": {},
   "outputs": [],
   "source": [
    "pointing_tbl = get_pointing_table(\n",
    "    \"lmsal\",\n",
    "    time_range=(aia_map.date - 6*u.hour, aia_map.date + 6*u.hour)\n",
    ")\n",
    "\n",
    "aia_map_pt = aiapy.calibrate.update_pointing(aia_map, pointing_table=pointing_tbl)"
   ]
  },
  {
   "cell_type": "code",
   "execution_count": 4,
   "id": "479e074d",
   "metadata": {},
   "outputs": [],
   "source": [
    "aia_map_pt = aiapy.calibrate.update_pointing(aia_map, pointing_table=pointing_tbl)"
   ]
  },
  {
   "cell_type": "code",
   "execution_count": 5,
   "id": "5ea80ae3",
   "metadata": {},
   "outputs": [
    {
     "name": "stdout",
     "output_type": "stream",
     "text": [
      "CRPIX1 before: 2041.36206 after: 2041.550781\n",
      "CRPIX2 before: 2040.86011 after: 2040.865112\n",
      "CDELT1 before: 0.600714028 after: 0.600714\n",
      "CDELT2 before: 0.600714028 after: 0.600714\n",
      "CROTA2 before: 0.0575987138 after: 0.057598713147\n"
     ]
    }
   ],
   "source": [
    "# To check a change.\n",
    "for key in [\"CRPIX1\",\"CRPIX2\",\"CDELT1\",\"CDELT2\",\"CROTA2\"]:\n",
    "    print(key, \"before:\", aia_map.meta[key], \"after:\", aia_map_pt.meta[key])\n"
   ]
  },
  {
   "cell_type": "markdown",
   "id": "f649a9c6",
   "metadata": {},
   "source": [
    "#### 2. Registration"
   ]
  },
  {
   "cell_type": "code",
   "execution_count": 6,
   "id": "126e6f34",
   "metadata": {},
   "outputs": [],
   "source": [
    "aia_map_reg = aiapy.calibrate.register(\n",
    "    aia_map_pt,\n",
    "    missing=np.nan,     # extrapolation: fill with NaN\n",
    "    order=3,            # interpolation: bicubic        \n",
    "    method='scipy'      # Rotation function to use: scipy\n",
    ")"
   ]
  },
  {
   "cell_type": "code",
   "execution_count": 7,
   "id": "39a11aba",
   "metadata": {},
   "outputs": [
    {
     "name": "stdout",
     "output_type": "stream",
     "text": [
      "CRPIX1 before: 2041.550781 after: 2048.5\n",
      "CRPIX2 before: 2040.865112 after: 2048.5\n",
      "CDELT1 before: 0.600714 after: 0.6\n",
      "CDELT2 before: 0.600714 after: 0.6\n"
     ]
    }
   ],
   "source": [
    "# To check a change.\n",
    "for key in [\"CRPIX1\",\"CRPIX2\",\"CDELT1\",\"CDELT2\"]:\n",
    "    print(key, \"before:\", aia_map_pt.meta[key], \"after:\", aia_map_reg.meta[key])"
   ]
  },
  {
   "cell_type": "markdown",
   "id": "b8d19761",
   "metadata": {},
   "source": [
    "#### 3. Degradation correction"
   ]
  },
  {
   "cell_type": "code",
   "execution_count": 8,
   "id": "0e3bfb49",
   "metadata": {},
   "outputs": [],
   "source": [
    "corr_tbl = get_correction_table(\"SSW\")\n",
    "\n",
    "aia_map_cal = aiapy.calibrate.correct_degradation(\n",
    "    aia_map_reg,\n",
    "    correction_table=corr_tbl\n",
    ")"
   ]
  },
  {
   "cell_type": "code",
   "execution_count": 9,
   "id": "08fc78ac",
   "metadata": {},
   "outputs": [
    {
     "name": "stdout",
     "output_type": "stream",
     "text": [
      "before: 2024-11-28T12:00:04.835  after: 2024-11-28T12:00:04.835\n"
     ]
    }
   ],
   "source": [
    "print(\"before:\", aia_map_reg.date.isot, \" after:\", aia_map_cal.date.isot)"
   ]
  },
  {
   "cell_type": "markdown",
   "id": "1c16d04b",
   "metadata": {},
   "source": [
    "#### 4. Exposure normalization"
   ]
  },
  {
   "cell_type": "code",
   "execution_count": 10,
   "id": "5c67905d",
   "metadata": {},
   "outputs": [],
   "source": [
    "exp_time = aia_map_cal.exposure_time\n",
    "\n",
    "aia_map_norm = aia_map_cal / exp_time"
   ]
  },
  {
   "cell_type": "markdown",
   "id": "f1b22aca",
   "metadata": {},
   "source": [
    "---"
   ]
  },
  {
   "cell_type": "markdown",
   "id": "d1327917",
   "metadata": {},
   "source": [
    "##### LMSAL 소스를 이용하여 Master Pointing Table 저장."
   ]
  },
  {
   "cell_type": "code",
   "execution_count": 1,
   "id": "9befe1dc",
   "metadata": {},
   "outputs": [],
   "source": [
    "from sunpy.time import parse_time\n",
    "from pathlib import Path\n",
    "from tqdm import tqdm\n",
    "from datetime import datetime\n",
    "import sunpy\n",
    "\n",
    "from convert_to_level1_5 import convert_to_level1_5\n",
    "\n",
    "\n",
    "import time\n"
   ]
  },
  {
   "cell_type": "code",
   "execution_count": 8,
   "id": "1fff1288",
   "metadata": {},
   "outputs": [
    {
     "name": "stderr",
     "output_type": "stream",
     "text": [
      "EUV 193 | year=2012:   0%|          | 1/733 [00:06<1:24:21,  6.91s/file, file=aia.lev1_euv_12s.2012-01-01T120009Z.193.image_lev1.fits]"
     ]
    },
    {
     "name": "stdout",
     "output_type": "stream",
     "text": [
      "aia.lev1_euv_12s.2012-01-01T000009Z.193.image_lev1.fits: Map: 0.27s, Convert: 5.91s, strip_invalid_blank: 0.00s, Save: 0.73s\n"
     ]
    },
    {
     "name": "stderr",
     "output_type": "stream",
     "text": [
      "EUV 193 | year=2012:   0%|          | 2/733 [00:13<1:24:25,  6.93s/file, file=aia.lev1_euv_12s.2012-01-02T000009Z.193.image_lev1.fits]"
     ]
    },
    {
     "name": "stdout",
     "output_type": "stream",
     "text": [
      "aia.lev1_euv_12s.2012-01-01T120009Z.193.image_lev1.fits: Map: 0.27s, Convert: 5.94s, strip_invalid_blank: 0.00s, Save: 0.73s\n"
     ]
    },
    {
     "name": "stderr",
     "output_type": "stream",
     "text": [
      "EUV 193 | year=2012:   0%|          | 3/733 [00:20<1:24:35,  6.95s/file, file=aia.lev1_euv_12s.2012-01-02T120009Z.193.image_lev1.fits]"
     ]
    },
    {
     "name": "stdout",
     "output_type": "stream",
     "text": [
      "aia.lev1_euv_12s.2012-01-02T000009Z.193.image_lev1.fits: Map: 0.27s, Convert: 5.98s, strip_invalid_blank: 0.00s, Save: 0.73s\n"
     ]
    },
    {
     "name": "stderr",
     "output_type": "stream",
     "text": [
      "EUV 193 | year=2012:   0%|          | 3/733 [00:22<1:30:37,  7.45s/file, file=aia.lev1_euv_12s.2012-01-02T120009Z.193.image_lev1.fits]\n"
     ]
    },
    {
     "ename": "KeyboardInterrupt",
     "evalue": "",
     "output_type": "error",
     "traceback": [
      "\u001b[1;31m---------------------------------------------------------------------------\u001b[0m",
      "\u001b[1;31mKeyboardInterrupt\u001b[0m                         Traceback (most recent call last)",
      "Cell \u001b[1;32mIn[8], line 48\u001b[0m\n\u001b[0;32m     46\u001b[0m aia_map \u001b[38;5;241m=\u001b[39m sunpy\u001b[38;5;241m.\u001b[39mmap\u001b[38;5;241m.\u001b[39mMap(file)\n\u001b[0;32m     47\u001b[0m t1 \u001b[38;5;241m=\u001b[39m time\u001b[38;5;241m.\u001b[39mperf_counter()\n\u001b[1;32m---> 48\u001b[0m aia_map_new \u001b[38;5;241m=\u001b[39m convert_to_level1_5(aia_map)\n\u001b[0;32m     49\u001b[0m t2 \u001b[38;5;241m=\u001b[39m time\u001b[38;5;241m.\u001b[39mperf_counter()\n\u001b[0;32m     50\u001b[0m strip_invalid_blank(aia_map_new)\n",
      "File \u001b[1;32mc:\\Users\\AHN\\Research\\SR_SWspeed\\data\\CH_Indices\\calibration\\convert_to_level1_5.py:86\u001b[0m, in \u001b[0;36mconvert_to_level1_5\u001b[1;34m(aia_map)\u001b[0m\n\u001b[0;32m     82\u001b[0m \u001b[38;5;28;01mdef\u001b[39;00m \u001b[38;5;21mconvert_to_level1_5\u001b[39m(aia_map):\n\u001b[0;32m     83\u001b[0m \u001b[38;5;250m    \u001b[39m\u001b[38;5;124;03m\"\"\"\u001b[39;00m\n\u001b[0;32m     84\u001b[0m \u001b[38;5;124;03m    Convert SDO/AIA data from level 1 to level 1.5.\u001b[39;00m\n\u001b[0;32m     85\u001b[0m \u001b[38;5;124;03m    \"\"\"\u001b[39;00m\n\u001b[1;32m---> 86\u001b[0m     aia_map \u001b[38;5;241m=\u001b[39m Pointing_correction(aia_map)      \u001b[38;5;66;03m# Step 1: Pointing correction\u001b[39;00m\n\u001b[0;32m     87\u001b[0m     aia_map \u001b[38;5;241m=\u001b[39m Registration(aia_map)             \u001b[38;5;66;03m# Step 4: Registration\u001b[39;00m\n\u001b[0;32m     88\u001b[0m     aia_map \u001b[38;5;241m=\u001b[39m Degradation_correction(aia_map)   \u001b[38;5;66;03m# Step 5: Degradation correction\u001b[39;00m\n",
      "File \u001b[1;32mc:\\Users\\AHN\\Research\\SR_SWspeed\\data\\CH_Indices\\calibration\\convert_to_level1_5.py:36\u001b[0m, in \u001b[0;36mPointing_correction\u001b[1;34m(aia_map)\u001b[0m\n\u001b[0;32m     32\u001b[0m \u001b[38;5;250m\u001b[39m\u001b[38;5;124;03m\"\"\"\u001b[39;00m\n\u001b[0;32m     33\u001b[0m \u001b[38;5;124;03mWe consider the satellite's attitude changes and movements to adjust the positioning of AIA images.\u001b[39;00m\n\u001b[0;32m     34\u001b[0m \u001b[38;5;124;03m\"\"\"\u001b[39;00m\n\u001b[0;32m     35\u001b[0m ref_date \u001b[38;5;241m=\u001b[39m parse_time(aia_map\u001b[38;5;241m.\u001b[39mdate\u001b[38;5;241m.\u001b[39misot[:\u001b[38;5;241m10\u001b[39m])\n\u001b[1;32m---> 36\u001b[0m pointing_tbl \u001b[38;5;241m=\u001b[39m get_pointing_table(\n\u001b[0;32m     37\u001b[0m     \u001b[38;5;124m\"\u001b[39m\u001b[38;5;124mlmsal\u001b[39m\u001b[38;5;124m\"\u001b[39m,\n\u001b[0;32m     38\u001b[0m     time_range\u001b[38;5;241m=\u001b[39m(ref_date \u001b[38;5;241m-\u001b[39m \u001b[38;5;241m6\u001b[39m\u001b[38;5;241m*\u001b[39mu\u001b[38;5;241m.\u001b[39mhour, ref_date \u001b[38;5;241m+\u001b[39m \u001b[38;5;241m6\u001b[39m\u001b[38;5;241m*\u001b[39mu\u001b[38;5;241m.\u001b[39mhour)\n\u001b[0;32m     39\u001b[0m )\n\u001b[0;32m     40\u001b[0m aia_map_pt \u001b[38;5;241m=\u001b[39m aiapy\u001b[38;5;241m.\u001b[39mcalibrate\u001b[38;5;241m.\u001b[39mupdate_pointing(aia_map, pointing_table\u001b[38;5;241m=\u001b[39mpointing_tbl)\n\u001b[0;32m     41\u001b[0m \u001b[38;5;28;01mreturn\u001b[39;00m aia_map_pt\n",
      "File \u001b[1;32mc:\\Users\\AHN\\anaconda3\\envs\\venv\\Lib\\site-packages\\aiapy\\calibrate\\util.py:241\u001b[0m, in \u001b[0;36mget_pointing_table\u001b[1;34m(source, time_range)\u001b[0m\n\u001b[0;32m    237\u001b[0m     table \u001b[38;5;241m=\u001b[39m QTable\u001b[38;5;241m.\u001b[39mfrom_pandas(\n\u001b[0;32m    238\u001b[0m         _get_data_from_jsoc(query\u001b[38;5;241m=\u001b[39m\u001b[38;5;124mf\u001b[39m\u001b[38;5;124m\"\u001b[39m\u001b[38;5;124maia.master_pointing3h[\u001b[39m\u001b[38;5;132;01m{\u001b[39;00mstart\u001b[38;5;241m.\u001b[39misot\u001b[38;5;132;01m}\u001b[39;00m\u001b[38;5;124mZ-\u001b[39m\u001b[38;5;132;01m{\u001b[39;00mend\u001b[38;5;241m.\u001b[39misot\u001b[38;5;132;01m}\u001b[39;00m\u001b[38;5;124mZ]\u001b[39m\u001b[38;5;124m\"\u001b[39m, key\u001b[38;5;241m=\u001b[39m\u001b[38;5;124m\"\u001b[39m\u001b[38;5;124m**ALL**\u001b[39m\u001b[38;5;124m\"\u001b[39m)\n\u001b[0;32m    239\u001b[0m     )\n\u001b[0;32m    240\u001b[0m \u001b[38;5;28;01melif\u001b[39;00m source\u001b[38;5;241m.\u001b[39mlower() \u001b[38;5;241m==\u001b[39m \u001b[38;5;124m\"\u001b[39m\u001b[38;5;124mlmsal\u001b[39m\u001b[38;5;124m\"\u001b[39m:\n\u001b[1;32m--> 241\u001b[0m     table \u001b[38;5;241m=\u001b[39m QTable(astropy_ascii\u001b[38;5;241m.\u001b[39mread(_fetch_pointing_table()))\n\u001b[0;32m    242\u001b[0m \u001b[38;5;28;01melse\u001b[39;00m:\n\u001b[0;32m    243\u001b[0m     msg \u001b[38;5;241m=\u001b[39m \u001b[38;5;124mf\u001b[39m\u001b[38;5;124m\"\u001b[39m\u001b[38;5;124mInvalid source: \u001b[39m\u001b[38;5;132;01m{\u001b[39;00msource\u001b[38;5;132;01m}\u001b[39;00m\u001b[38;5;124m, must be one of \u001b[39m\u001b[38;5;124m'\u001b[39m\u001b[38;5;124mjsoc\u001b[39m\u001b[38;5;124m'\u001b[39m\u001b[38;5;124m or \u001b[39m\u001b[38;5;124m'\u001b[39m\u001b[38;5;124mlmsal\u001b[39m\u001b[38;5;124m'\u001b[39m\u001b[38;5;124m\"\u001b[39m\n",
      "File \u001b[1;32mc:\\Users\\AHN\\anaconda3\\envs\\venv\\Lib\\site-packages\\astropy\\io\\ascii\\ui.py:437\u001b[0m, in \u001b[0;36mread\u001b[1;34m(table, guess, **kwargs)\u001b[0m\n\u001b[0;32m    431\u001b[0m             new_kwargs[\u001b[38;5;124m\"\u001b[39m\u001b[38;5;124mguess_html\u001b[39m\u001b[38;5;124m\"\u001b[39m] \u001b[38;5;241m=\u001b[39m _probably_html(table)\n\u001b[0;32m    433\u001b[0m \u001b[38;5;66;03m# Get the table from guess in ``dat``.  If ``dat`` comes back as None\u001b[39;00m\n\u001b[0;32m    434\u001b[0m \u001b[38;5;66;03m# then there was just one set of kwargs in the guess list so fall\u001b[39;00m\n\u001b[0;32m    435\u001b[0m \u001b[38;5;66;03m# through below to the non-guess way so that any problems result in a\u001b[39;00m\n\u001b[0;32m    436\u001b[0m \u001b[38;5;66;03m# more useful traceback.\u001b[39;00m\n\u001b[1;32m--> 437\u001b[0m dat \u001b[38;5;241m=\u001b[39m _guess(table, new_kwargs, \u001b[38;5;28mformat\u001b[39m, fast_reader)\n\u001b[0;32m    438\u001b[0m \u001b[38;5;28;01mif\u001b[39;00m dat \u001b[38;5;129;01mis\u001b[39;00m \u001b[38;5;28;01mNone\u001b[39;00m:\n\u001b[0;32m    439\u001b[0m     guess \u001b[38;5;241m=\u001b[39m \u001b[38;5;28;01mFalse\u001b[39;00m\n",
      "File \u001b[1;32mc:\\Users\\AHN\\anaconda3\\envs\\venv\\Lib\\site-packages\\astropy\\io\\ascii\\ui.py:682\u001b[0m, in \u001b[0;36m_guess\u001b[1;34m(table, read_kwargs, format, fast_reader)\u001b[0m\n\u001b[0;32m    676\u001b[0m \u001b[38;5;28;01mif\u001b[39;00m table_guess_subset:\n\u001b[0;32m    677\u001b[0m     \u001b[38;5;66;03m# First try with subset of lines - if this fails we can skip this\u001b[39;00m\n\u001b[0;32m    678\u001b[0m     \u001b[38;5;66;03m# format early. If it works, we still proceed to check with the\u001b[39;00m\n\u001b[0;32m    679\u001b[0m     \u001b[38;5;66;03m# full table since we need to then return the read data.\u001b[39;00m\n\u001b[0;32m    680\u001b[0m     reader\u001b[38;5;241m.\u001b[39mread(table_guess_subset)\n\u001b[1;32m--> 682\u001b[0m dat \u001b[38;5;241m=\u001b[39m reader\u001b[38;5;241m.\u001b[39mread(table)\n\u001b[0;32m    683\u001b[0m _read_trace\u001b[38;5;241m.\u001b[39mappend(\n\u001b[0;32m    684\u001b[0m     {\n\u001b[0;32m    685\u001b[0m         \u001b[38;5;124m\"\u001b[39m\u001b[38;5;124mkwargs\u001b[39m\u001b[38;5;124m\"\u001b[39m: copy\u001b[38;5;241m.\u001b[39mdeepcopy(guess_kwargs),\n\u001b[1;32m   (...)\u001b[0m\n\u001b[0;32m    689\u001b[0m     }\n\u001b[0;32m    690\u001b[0m )\n\u001b[0;32m    691\u001b[0m \u001b[38;5;28;01mreturn\u001b[39;00m dat\n",
      "File \u001b[1;32mc:\\Users\\AHN\\anaconda3\\envs\\venv\\Lib\\site-packages\\astropy\\io\\ascii\\fastbasic.py:152\u001b[0m, in \u001b[0;36mFastBasic.read\u001b[1;34m(self, table)\u001b[0m\n\u001b[0;32m    149\u001b[0m     try_string \u001b[38;5;241m=\u001b[39m {}\n\u001b[0;32m    151\u001b[0m \u001b[38;5;28;01mwith\u001b[39;00m _set_locale(\u001b[38;5;124m\"\u001b[39m\u001b[38;5;124mC\u001b[39m\u001b[38;5;124m\"\u001b[39m):\n\u001b[1;32m--> 152\u001b[0m     data, comments \u001b[38;5;241m=\u001b[39m \u001b[38;5;28mself\u001b[39m\u001b[38;5;241m.\u001b[39mengine\u001b[38;5;241m.\u001b[39mread(try_int, try_float, try_string)\n\u001b[0;32m    153\u001b[0m out \u001b[38;5;241m=\u001b[39m \u001b[38;5;28mself\u001b[39m\u001b[38;5;241m.\u001b[39mmake_table(data, comments)\n\u001b[0;32m    155\u001b[0m \u001b[38;5;28;01mif\u001b[39;00m \u001b[38;5;28mself\u001b[39m\u001b[38;5;241m.\u001b[39mreturn_header_chars:\n",
      "\u001b[1;31mKeyboardInterrupt\u001b[0m: "
     ]
    }
   ],
   "source": [
    "# parameters\n",
    "channels = [193, 211]\n",
    "start_dt = parse_time(\"2012-01-01\").to_datetime()\n",
    "end_dt = parse_time(\"2013-12-31\").to_datetime()\n",
    "file_directory = r\"E:\\Research\\SR\\input\\CH_Indices\\EUV_level1\"\n",
    "save_directory = r\"D:\\Research_data\\EUV\"\n",
    "parent_dir = Path(file_directory)\n",
    "save_dir   = Path(save_directory)\n",
    "\n",
    "years = range(start_dt.year, end_dt.year + 1)\n",
    "\n",
    "def strip_invalid_blank(aia_map):\n",
    "    \"\"\"\n",
    "    Remove the BLANK keyword when BITPIX < 0 (float data),\n",
    "    to avoid astropy VerifyWarning.\n",
    "    \"\"\"\n",
    "    if aia_map.meta.get(\"BITPIX\", 0) < 0 and \"BLANK\" in aia_map.meta:\n",
    "        aia_map.meta.pop(\"BLANK\") \n",
    "\n",
    "for chan in channels:\n",
    "    for year in years:\n",
    "        source_dir = parent_dir / str(chan) / str(year)\n",
    "        destination_dir = save_dir / str(chan)/ str(year)\n",
    "        destination_dir.mkdir(parents=True, exist_ok=True)\n",
    "\n",
    "        source_files = sorted(source_dir.glob(\"*.fits\"))\n",
    "        destination_files = []\n",
    "\n",
    "        with tqdm(source_files, desc=f\"EUV {chan} | year={year}\", unit=\"file\") as pbar:\n",
    "            for file in pbar:\n",
    "                pbar.set_postfix(file=file.name[:60])\n",
    "                try:\n",
    "                    file_date = datetime.strptime(file.stem.split(\".\")[2],\n",
    "                                               \"%Y-%m-%dT%H%M%SZ\")\n",
    "                except Exception:\n",
    "                    continue\n",
    "                if not (start_dt <= file_date <= end_dt):\n",
    "                    continue\n",
    "                outfile = destination_dir / file.name.replace(\"lev1\", \"lev1_5\")\n",
    "                if outfile.exists():\n",
    "                    continue\n",
    "\n",
    "                destination_files.append((str(file), str(outfile)))\n",
    "                try:\n",
    "                    t0 = time.perf_counter()\n",
    "                    aia_map = sunpy.map.Map(file)\n",
    "                    t1 = time.perf_counter()\n",
    "                    aia_map_new = convert_to_level1_5(aia_map)\n",
    "                    t2 = time.perf_counter()\n",
    "                    strip_invalid_blank(aia_map_new)\n",
    "                    t3 = time.perf_counter()\n",
    "                    aia_map_new.save(outfile, overwrite=False)\n",
    "                    t4 = time.perf_counter()\n",
    "                    print(f\"{file.name}: \"\n",
    "                        f\"Map: {t1-t0:.2f}s, \"\n",
    "                        f\"Convert: {t2-t1:.2f}s, \"\n",
    "                        f\"strip_invalid_blank: {t3-t2:.2f}s, \"\n",
    "                        f\"Save: {t4-t3:.2f}s\")\n",
    "                except Exception as e:\n",
    "                    pbar.write(f\"[{chan}] {file.name} failed: {e}\")\n",
    "print(\"All conversions finished.\")"
   ]
  },
  {
   "cell_type": "code",
   "execution_count": null,
   "id": "3c5aac51",
   "metadata": {},
   "outputs": [
    {
     "ename": "ModuleNotFoundError",
     "evalue": "No module named 'fitsio'",
     "output_type": "error",
     "traceback": [
      "\u001b[1;31m---------------------------------------------------------------------------\u001b[0m",
      "\u001b[1;31mModuleNotFoundError\u001b[0m                       Traceback (most recent call last)",
      "Cell \u001b[1;32mIn[7], line 1\u001b[0m\n\u001b[1;32m----> 1\u001b[0m \u001b[38;5;28;01mimport\u001b[39;00m \u001b[38;5;21;01mfitsio\u001b[39;00m\n",
      "\u001b[1;31mModuleNotFoundError\u001b[0m: No module named 'fitsio'"
     ]
    }
   ],
   "source": [
    "\"\"\"\n",
    "Run the conversion of SDO/AIA level 1 FITS files to level 1.5.\n",
    "\n",
    "Convert SDO/AIA level 1 FITS files to level 1.5 and save them\n",
    "with a progress bar that shows the number of files processed.\n",
    "\n",
    "\"\"\"\n",
    "\n",
    "import argparse\n",
    "from pathlib import Path\n",
    "from tqdm import tqdm\n",
    "\n",
    "import sunpy\n",
    "from sunpy.time import parse_time\n",
    "from datetime import datetime\n",
    "from concurrent.futures import ProcessPoolExecutor, as_completed\n",
    "\n",
    "from convert_to_level1_5 import convert_to_level1_5\n",
    "\n",
    "\n",
    "def strip_invalid_blank(aia_map):\n",
    "    \"\"\"\n",
    "    Remove the BLANK keyword when BITPIX < 0 (float data),\n",
    "    to avoid astropy VerifyWarning.\n",
    "    \"\"\"\n",
    "    if aia_map.meta.get(\"BITPIX\", 0) < 0 and \"BLANK\" in aia_map.meta:\n",
    "        aia_map.meta.pop(\"BLANK\") \n",
    "\n",
    "def process_and_save(infile: str, outfile: str):\n",
    "    \"\"\"\n",
    "    Save a FITS file after converting to level 1.5\n",
    "    \"\"\"\n",
    "    aia_map = sunpy.map.Map(infile)\n",
    "    aia_map_new = convert_to_level1_5(aia_map)\n",
    "    strip_invalid_blank(aia_map_new)\n",
    "    aia_map_new.save(outfile, overwrite=False)\n",
    "\n",
    "def main():\n",
    "    parser = argparse.ArgumentParser(\n",
    "        description=\"Convert SDO/AIA data from level 1 to level 1.5.\"\n",
    "    )\n",
    "    parser.add_argument(\"--channel\", type=str, required=True,\n",
    "                        help=\"channel name (e.g, '193' or '193,211')\")\n",
    "    parser.add_argument(\"--start\", type=str, required=True,\n",
    "                        help=\"start date (e.g, 2012-01-01)\")\n",
    "    parser.add_argument(\"--end\", type=str, required=True,\n",
    "                        help=\"end date (e.g, 2024-12-31)\")\n",
    "    parser.add_argument(\"--file_directory\", type=str, required=True,\n",
    "                        help=\"directory containing level 1 FITS files (e.g, E:\\Research\\SR\\input\\CH_Indices\\EUV_level1)\")\n",
    "    parser.add_argument(\"--save_directory\", type=str, required=True,\n",
    "                        help=\"directory to save a level 1.5 FITS files (e.g, D:\\Research_data\\EUV)\")\n",
    "    parser.add_argument(\"--cores\", type=int, default=4,\n",
    "                        help=\"number of cores to use for processing\")\n",
    "    args = parser.parse_args()\n",
    "\n",
    "    parent_dir = Path(args.file_directory)\n",
    "    save_dir   = Path(args.save_directory)\n",
    "    \n",
    "    start_dt = parse_time(args.start).to_datetime()\n",
    "    end_dt = parse_time(args.end).to_datetime()\n",
    "\n",
    "    channels = [chan.strip() for chan in args.channel.split(',')]   # e.g., [193,211]\n",
    "    years = range(start_dt.year, end_dt.year + 1)\n",
    "\n",
    "    for chan in channels:\n",
    "        for year in years:\n",
    "            source_dir = parent_dir / str(chan) / str(year)\n",
    "            destination_dir = save_dir / str(chan)/ str(year)\n",
    "            destination_dir.mkdir(parents=True, exist_ok=True)\n",
    "\n",
    "            destination_files = []\n",
    "            for file in sorted(source_dir.glob(\"*.fits\")):\n",
    "                try:\n",
    "                    file_dt = datetime.strptime(file.stem.split(\".\")[2],\n",
    "                                                \"%Y-%m-%dT%H%M%SZ\")\n",
    "                except Exception:\n",
    "                    continue\n",
    "                if not (start_dt <= file_dt <= end_dt):\n",
    "                    continue\n",
    "\n",
    "                outpath = destination_dir / file.name.replace(\"lev1\", \"lev1_5\")\n",
    "                if outpath.exists():\n",
    "                    continue\n",
    "\n",
    "                destination_files.append((str(file), str(outpath)))\n",
    "\n",
    "            if not destination_files:\n",
    "                continue\n",
    "\n",
    "            with ProcessPoolExecutor(max_workers=args.workers) as executor:\n",
    "                futures = {\n",
    "                    executor.submit(process_and_save, inp, outp): (inp, outp)\n",
    "                    for inp, outp in destination_files\n",
    "                }\n",
    "\n",
    "                for future in tqdm(as_completed(futures),\n",
    "                                   total=len(futures),\n",
    "                                   desc=f\"EUV {chan} | year={year}\",\n",
    "                                   unit=\"file\"):\n",
    "                    inp, outp = futures[future]\n",
    "                    try:\n",
    "                        future.result()\n",
    "                    except Exception as e:\n",
    "                        tqdm.write(f\"[ERROR] {Path(inp).name} -> {e}\")\n",
    "\n",
    "\n",
    "\n",
    "\n",
    "            source_files = sorted(source_dir.glob(\"*.fits\"))\n",
    "            destination_files = []\n",
    "\n",
    "            with tqdm(source_files, desc=f\"EUV {chan} | year={year}\", unit=\"file\") as pbar:\n",
    "                for file in pbar:\n",
    "                    pbar.set_postfix(file=file.name[:60])\n",
    "                    try:\n",
    "                        file_date = datetime.strptime(file.stem.split(\".\")[2],\n",
    "                                               \"%Y-%m-%dT%H%M%SZ\")\n",
    "                    except Exception:\n",
    "                        continue\n",
    "                    if not (start_dt <= file_date <= end_dt):\n",
    "                        continue\n",
    "                    outfile = destination_dir / file.name.replace(\"lev1\", \"lev1_5\")\n",
    "                    if outfile.exists():\n",
    "                        continue\n",
    "\n",
    "                    destination_files.append((str(file), str(outfile)))\n",
    "                    try:\n",
    "                        aia_map = sunpy.map.Map(file)\n",
    "                        aia_map_new = convert_to_level1_5(aia_map)\n",
    "                        strip_invalid_blank(aia_map_new)\n",
    "                        aia_map_new.save(outfile, overwrite=False)\n",
    "                    except Exception as e:\n",
    "                        pbar.write(f\"[{chan}] {file.name} failed: {e}\")\n",
    "    print(\"All conversions finished.\")\n",
    "\n",
    "if __name__ == '__main__':\n",
    "    main()\n",
    "\n",
    "\n",
    "# To run this script, you can use the command line as follows:\n",
    "# conda activate venv\n",
    "# cd Research\\SR_SWspeed\\data\\CH_Indices\\calibration\n",
    "# python run_convert_to_level1_5.py --channel \"193,211\" --start \"2012-01-01\" --end \"2023-12-31\" --file_directory \"E:\\Research\\SR\\input\\CH_Indices\\EUV_level1\" --save_directory \"D:\\Research_data\\EUV\""
   ]
  },
  {
   "cell_type": "code",
   "execution_count": null,
   "id": "2f269b2d",
   "metadata": {},
   "outputs": [],
   "source": []
  }
 ],
 "metadata": {
  "kernelspec": {
   "display_name": "venv",
   "language": "python",
   "name": "python3"
  },
  "language_info": {
   "codemirror_mode": {
    "name": "ipython",
    "version": 3
   },
   "file_extension": ".py",
   "mimetype": "text/x-python",
   "name": "python",
   "nbconvert_exporter": "python",
   "pygments_lexer": "ipython3",
   "version": "3.11.9"
  }
 },
 "nbformat": 4,
 "nbformat_minor": 5
}
