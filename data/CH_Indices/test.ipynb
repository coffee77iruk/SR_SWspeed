{
 "cells": [
  {
   "cell_type": "code",
   "execution_count": 7,
   "id": "5d12f096",
   "metadata": {},
   "outputs": [],
   "source": [
    "from processing import get_A_CH\n",
    "from processing import get_P_CH\n",
    "\n",
    "fits_file = r\"D:\\Data\\EUV\\193\\2017\\aia.lev1_5_euv_12s.2017-01-30T120006Z.193.image_lev1_5.fits\""
   ]
  },
  {
   "cell_type": "code",
   "execution_count": 8,
   "id": "f0436267",
   "metadata": {},
   "outputs": [
    {
     "name": "stdout",
     "output_type": "stream",
     "text": [
      "(<Time object: scale='utc' format='isot' value=2017-01-30T12:00:04.846>, 0.4057118970264139)\n"
     ]
    }
   ],
   "source": [
    "A_CH = get_A_CH(fits_file)\n",
    "print(A_CH)"
   ]
  },
  {
   "cell_type": "code",
   "execution_count": 9,
   "id": "d57a8fed",
   "metadata": {},
   "outputs": [
    {
     "name": "stdout",
     "output_type": "stream",
     "text": [
      "2017-01-30T12:00:04.846 0.4057118970264139\n"
     ]
    }
   ],
   "source": [
    "print(A_CH[0], A_CH[1])"
   ]
  },
  {
   "cell_type": "code",
   "execution_count": 10,
   "id": "76bb214f",
   "metadata": {},
   "outputs": [
    {
     "name": "stdout",
     "output_type": "stream",
     "text": [
      "(<Time object: scale='utc' format='isot' value=2017-01-30T12:00:04.846>, 18033.83353508105)\n",
      "(<Time object: scale='utc' format='isot' value=2017-01-30T12:00:04.846>, 27649.09364136569)\n"
     ]
    }
   ],
   "source": [
    "P_CH_30 = get_P_CH(fits_file)\n",
    "P_CH_90 = get_P_CH(fits_file, lon=7.5, lat=90)\n",
    "print(P_CH_30)\n",
    "print(P_CH_90)"
   ]
  },
  {
   "cell_type": "code",
   "execution_count": 11,
   "id": "dc81cff4",
   "metadata": {},
   "outputs": [
    {
     "name": "stdout",
     "output_type": "stream",
     "text": [
      "(<Time object: scale='utc' format='isot' value=2017-01-28T12:00:04.843>, 0.027339411222224892)\n",
      "(<Time object: scale='utc' format='isot' value=2017-01-28T12:00:04.843>, 9995.355801037378)\n",
      "(<Time object: scale='utc' format='isot' value=2017-01-28T12:00:04.843>, 12736.156412926932)\n"
     ]
    }
   ],
   "source": [
    "fits_file = r\"D:\\Data\\EUV\\193\\2017\\aia.lev1_5_euv_12s.2017-01-28T120006Z.193.image_lev1_5.fits\"\n",
    "A_CH = get_A_CH(fits_file)\n",
    "P_CH_30 = get_P_CH(fits_file)\n",
    "P_CH_90 = get_P_CH(fits_file, lon=7.5, lat=90)\n",
    "print(A_CH)\n",
    "print(P_CH_30)\n",
    "print(P_CH_90)"
   ]
  },
  {
   "cell_type": "code",
   "execution_count": 21,
   "id": "6bf766a7",
   "metadata": {},
   "outputs": [],
   "source": [
    "import numpy as np\n",
    "import pandas as pd\n",
    "\n",
    "import argparse\n",
    "from pathlib import Path\n",
    "from tqdm import tqdm\n",
    "\n",
    "from sunpy.time import parse_time\n",
    "from datetime import datetime, timedelta\n",
    "from multiprocessing import Pool\n",
    "\n",
    "from processing import get_A_CH\n",
    "from processing import get_P_CH\n",
    "\n",
    "import warnings"
   ]
  },
  {
   "cell_type": "code",
   "execution_count": 27,
   "id": "0b5bcaaf",
   "metadata": {},
   "outputs": [],
   "source": [
    "channel = '193'\n",
    "start = \"2012-01-01\"\n",
    "end = \"2013-02-21\"\n",
    "cadence = 12\n",
    "base_dir = \"D:\\\\Data\\\\EUV\"\n",
    "save_dir = \"D:\\\\Data\\\\EUV\"\n",
    "cores = 4"
   ]
  },
  {
   "cell_type": "code",
   "execution_count": 28,
   "id": "65994204",
   "metadata": {},
   "outputs": [],
   "source": [
    "base_dir = Path(base_dir)\n",
    "save_dir = Path(save_dir)\n",
    "start_dt = parse_time(start).to_datetime()\n",
    "end_dt = parse_time(end).to_datetime()\n",
    "channels = [chan.strip() for chan in channel.split(',')]   # e.g., [193,211]\n",
    "years = range(start_dt.year, end_dt.year + 1)"
   ]
  },
  {
   "cell_type": "code",
   "execution_count": 29,
   "id": "39cbe115",
   "metadata": {},
   "outputs": [
    {
     "data": {
      "text/plain": [
       "(nan,\n",
       " (<Time object: scale='utc' format='isot' value=2012-01-01T00:00:07.838>,\n",
       "  4206.427192764431),\n",
       " (<Time object: scale='utc' format='isot' value=2012-01-01T00:00:07.838>,\n",
       "  9053.077741189918))"
      ]
     },
     "execution_count": 29,
     "metadata": {},
     "output_type": "execute_result"
    }
   ],
   "source": [
    "def get_parameter(file):\n",
    "    if file.exists():\n",
    "        try:\n",
    "            #a_ch = get_A_CH(file)\n",
    "            p_ch30 = get_P_CH(file, lon=10, lat=30)\n",
    "            p_ch90 = get_P_CH(file, lon=10, lat=90)\n",
    "        except Exception:\n",
    "            _, p_ch30, p_ch90 = np.nan, np.nan, np.nan\n",
    "    else:\n",
    "        _, p_ch30, p_ch90 = np.nan, np.nan, np.nan\n",
    "    return np.nan, p_ch30, p_ch90\n",
    "\n",
    "get_parameter(Path(\"D:/Data/EUV/193/2012/aia.lev1_5_euv_12s.2012-01-01T000009Z.193.image_lev1_5.fits\"))"
   ]
  },
  {
   "cell_type": "code",
   "execution_count": 30,
   "id": "1a6577b2",
   "metadata": {},
   "outputs": [
    {
     "name": "stderr",
     "output_type": "stream",
     "text": [
      "C:\\Users\\AHN\\AppData\\Local\\Temp\\ipykernel_1460\\58805117.py:26: FutureWarning: The behavior of DatetimeProperties.to_pydatetime is deprecated, in a future version this will return a Series containing python datetime objects instead of an ndarray. To retain the old behavior, call `np.array` on the result\n",
      "  processed = set(df['datetime'].dt.to_pydatetime())\n",
      "C:\\Users\\AHN\\AppData\\Local\\Temp\\ipykernel_1460\\58805117.py:26: FutureWarning: The behavior of DatetimeProperties.to_pydatetime is deprecated, in a future version this will return a Series containing python datetime objects instead of an ndarray. To retain the old behavior, call `np.array` on the result\n",
      "  processed = set(df['datetime'].dt.to_pydatetime())\n"
     ]
    }
   ],
   "source": [
    "for chan in channels:\n",
    "    for year in years:\n",
    "        source_dir = base_dir / str(chan) / str(year)\n",
    "        destination_dir = save_dir\n",
    "        destination_dir.mkdir(parents=True, exist_ok=True)\n",
    "            \n",
    "        save_file = destination_dir / \"CH_Indics.csv\"\n",
    "         # --- resume logic: read existing times ---\n",
    "        if save_file.exists():\n",
    "            df = pd.read_csv(save_file)\n",
    "            df.columns = df.columns.str.strip()\n",
    "            if 'datetime' not in df.columns:\n",
    "                alt = [c for c in df.columns if c.strip().lower() == 'datetime']\n",
    "                if alt:\n",
    "                    df.rename(columns={alt[0]: 'datetime'}, inplace=True)\n",
    "                else:\n",
    "                    raise KeyError(\n",
    "                        f\"there are no 'datetime' column. \"\n",
    "                        f\"column in the files: {df.columns.tolist()}\"\n",
    "                    )\n",
    "            df['datetime'] = pd.to_datetime(\n",
    "                df['datetime'],\n",
    "                format=\"%Y-%m-%d_%H\",\n",
    "                errors='coerce'\n",
    "            )\n",
    "            processed = set(df['datetime'].dt.to_pydatetime())\n",
    "        else:\n",
    "            save_file.write_text(\"datetime,A_CH,P_CH30,P_CH90\\n\")\n",
    "            processed = set()\n",
    "\n",
    "        year_start = max(start_dt, datetime(year, 1, 1, 0, 0))\n",
    "        year_end   = min(end_dt,   datetime(year, 12, 31, 23, 59, 59))\n",
    "        current = year_start\n",
    "        dt_list = []\n",
    "        while current <= year_end:\n",
    "            dt_list.append(current)\n",
    "            current += timedelta(hours=cadence)\n",
    "            \n",
    "        to_do = [dt for dt in dt_list if dt not in processed]\n",
    "        \n",
    "        def process_dt(dt):\n",
    "            prefix = dt.strftime('%Y-%m-%dT%H')\n",
    "            fname = f\"aia.lev1_5_euv_12s.{prefix}*Z.{chan}.image_lev1_5.fits\"\n",
    "            matches = list(source_dir.glob(fname))\n",
    "            if matches:\n",
    "                fpath = matches[0]\n",
    "            else:\n",
    "                # dummy path to trigger nan in get_parameter\n",
    "                fpath = source_dir / 'file_not_found.fits'\n",
    "            a_ch, p_ch30, p_ch90 = get_parameter(fpath)\n",
    "            return dt, a_ch, p_ch30, p_ch90\n",
    "        \n",
    "        "
   ]
  },
  {
   "cell_type": "code",
   "execution_count": 35,
   "id": "f50b7d34",
   "metadata": {},
   "outputs": [],
   "source": [
    "import os\n"
   ]
  },
  {
   "cell_type": "code",
   "execution_count": 36,
   "id": "519eef52",
   "metadata": {},
   "outputs": [
    {
     "data": {
      "text/plain": [
       "datetime.datetime(2012, 1, 20, 12, 0)"
      ]
     },
     "execution_count": 36,
     "metadata": {},
     "output_type": "execute_result"
    }
   ],
   "source": [
    "save_file = save_dir / str(chan) / f\"CH_Indics_{chan}.csv\"\n",
    "fmt = '%Y-%m-%dT%H:%M:%S'\n",
    "def get_last_processed(save_file: Path, fmt: str = '%Y-%m-%dT%H:%M:%S'):\n",
    "    \"\"\"\n",
    "    Read the last line of the CSV and parse its datetime.\n",
    "    Returns None if file does not exist or parse fails.\n",
    "    \"\"\"\n",
    "    if not save_file.exists() or save_file.stat().st_size == 0:\n",
    "        return None\n",
    "    with open(save_file, 'rb') as f:\n",
    "        try:\n",
    "            f.seek(-2, os.SEEK_END)\n",
    "            while f.read(1) != b'\\n':\n",
    "                f.seek(-2, os.SEEK_CUR)\n",
    "        except OSError:\n",
    "            f.seek(0)\n",
    "        last_line = f.readline().decode().strip()\n",
    "    if not last_line:\n",
    "        return None\n",
    "    last_dt_str = last_line.split(',')[0]\n",
    "    try:\n",
    "        return datetime.strptime(last_dt_str, fmt)\n",
    "    except ValueError:\n",
    "        return None\n",
    "    \n",
    "get_last_processed(save_file, fmt)"
   ]
  }
 ],
 "metadata": {
  "kernelspec": {
   "display_name": "venv",
   "language": "python",
   "name": "python3"
  },
  "language_info": {
   "codemirror_mode": {
    "name": "ipython",
    "version": 3
   },
   "file_extension": ".py",
   "mimetype": "text/x-python",
   "name": "python",
   "nbconvert_exporter": "python",
   "pygments_lexer": "ipython3",
   "version": "3.11.9"
  }
 },
 "nbformat": 4,
 "nbformat_minor": 5
}
