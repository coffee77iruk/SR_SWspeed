{
 "cells": [
  {
   "cell_type": "code",
   "execution_count": 1,
   "id": "f0436267",
   "metadata": {},
   "outputs": [
    {
     "name": "stderr",
     "output_type": "stream",
     "text": [
      "WARNING: SunpyUserWarning: Using 'time' assumes an Earth-based observer. [sunpy.physics.differential_rotation]\n",
      "2025-04-29 18:47:08 - sunpy - WARNING: SunpyUserWarning: Using 'time' assumes an Earth-based observer.\n"
     ]
    },
    {
     "name": "stdout",
     "output_type": "stream",
     "text": [
      "(<Time object: scale='utc' format='isot' value=2017-01-30T12:00:04.846>, 0.2992637477376497)\n"
     ]
    }
   ],
   "source": [
    "from processing import compute_A_CH\n",
    "\n",
    "fits_file = r\"D:\\Research_data\\EUV\\193\\2017\\aia.lev1_5_euv_12s.2017-01-30T120006Z.193.image_lev1_5.fits\"\n",
    "\n",
    "A_CH = compute_A_CH(fits_file)\n",
    "print(A_CH)"
   ]
  },
  {
   "cell_type": "code",
   "execution_count": 2,
   "id": "d57a8fed",
   "metadata": {},
   "outputs": [
    {
     "name": "stdout",
     "output_type": "stream",
     "text": [
      "2017-01-30T12:00:04.846 0.2992637477376497\n"
     ]
    }
   ],
   "source": [
    "print(A_CH[0], A_CH[1])"
   ]
  },
  {
   "cell_type": "code",
   "execution_count": 4,
   "id": "76bb214f",
   "metadata": {},
   "outputs": [
    {
     "name": "stdout",
     "output_type": "stream",
     "text": [
      "(<Time object: scale='utc' format='isot' value=2017-01-30T12:00:04.846>, 14147.434533885431)\n"
     ]
    }
   ],
   "source": [
    "from processing import compute_P_CH\n",
    "\n",
    "fits_file = r\"D:\\Research_data\\EUV\\193\\2017\\aia.lev1_5_euv_12s.2017-01-30T120006Z.193.image_lev1_5.fits\"\n",
    "\n",
    "P_CH = compute_P_CH(fits_file)\n",
    "print(P_CH)\n"
   ]
  },
  {
   "cell_type": "code",
   "execution_count": null,
   "id": "0943fd45",
   "metadata": {},
   "outputs": [],
   "source": []
  },
  {
   "cell_type": "code",
   "execution_count": null,
   "id": "dc81cff4",
   "metadata": {},
   "outputs": [],
   "source": []
  }
 ],
 "metadata": {
  "kernelspec": {
   "display_name": "venv",
   "language": "python",
   "name": "python3"
  },
  "language_info": {
   "codemirror_mode": {
    "name": "ipython",
    "version": 3
   },
   "file_extension": ".py",
   "mimetype": "text/x-python",
   "name": "python",
   "nbconvert_exporter": "python",
   "pygments_lexer": "ipython3",
   "version": "3.11.9"
  }
 },
 "nbformat": 4,
 "nbformat_minor": 5
}
